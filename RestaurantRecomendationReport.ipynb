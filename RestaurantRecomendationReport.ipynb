{
 "cells": [
  {
   "cell_type": "markdown",
   "metadata": {
    "collapsed": true
   },
   "source": [
    "# Recommendation system for investors trying to find a suitable place for opening a restaurant"
   ]
  },
  {
   "cell_type": "markdown",
   "metadata": {},
   "source": [
    "### Problem Statement"
   ]
  },
  {
   "cell_type": "markdown",
   "metadata": {},
   "source": [
    "Not every available space is right for a restaurant. A good restaurant location is harder to find than some people think. What may look like the perfect spot- say a bustling pedestrian street in the heart of downtown- may turn out to be a dud.   \n",
    "\n",
    "Other times a spot that you would never think to put a restaurant - like in an old shoe shop in a run-down mill town - is a success. Of course, food and service are important to the success of a restaurant, but the location can be just as crucial, especially in the early years. Read on for ten things you should know about selecting a restaurant location"
   ]
  },
  {
   "cell_type": "markdown",
   "metadata": {},
   "source": [
    "**Parking:** Ideally, a new restaurant location should have its own parking lot. If that isn’t an option—for example, in a major city—consider partnering with a hotel in the area that has its own parking options. Many famous restaurants are housed in hotels, and for a good reason. Not only is there parking, but the benefit of foot traffic that is staying right upstairs is incalculable.\n",
    "\n",
    "**Accessibility:** There’s a reason that major restaurant chains are often located near highway exits: It makes them accessible for customers. Certain restaurants can get away with food or service that isn't the best simply because their locations are so accessible, like restaurants near the Eiffel Tower or Collisseum. There is plenty of foot traffic in urbanized areas, and restaurants only need to attract customers from the street into their business. Most successful restaurants—other than the truly elite—are easy to find, and you will find them in city centers or unique locations throughout the world.\n",
    "\n",
    "**Visibility:** This goes along with accessibility and is very important for new restaurant locations. People have to know the restaurant is there, either in person or on their mobile devices. It is why property prices in downtown districts and developed strips are higher than in other areas. They offer a level of visibility that can bring in a great deal of walk-in business. Consider advertising in search engines and social media to enhance your presence across all forms of media. Make sure to register your restaurant in search engines as the type of food you offer and your price point, as it will be easier to attract the clientele you want when they go to search.\n",
    "\n",
    "**Population Base:** Are there enough people in the area to support your business? There need to be enough people who live in or pass through the area regularly to keep you busy. To determine a particular area's population base, you could do a site study. However, these can cost up to $25,000. Most people looking at their first restaurant don’t have enough money in their budget for a professional survey. A less expensive method to determine the population base of a certain area is to use a pie chart, as well as asking the local chamber of commerce and town office for more information. If you would rather pound the pavement, simply walk around the area where you plan to build. Intuition can place a big role in choosing your site.\n",
    "\n",
    "**Competitors:** When looking for a restaurant location, consider who else is doing business in the neighborhood. Are there already half a dozen restaurants with the same concept as yours? Is the area busy or full of empty storefronts? Successful businesses attract other successful businesses"
   ]
  },
  {
   "cell_type": "markdown",
   "metadata": {},
   "source": [
    "### Targeted audience "
   ]
  },
  {
   "cell_type": "markdown",
   "metadata": {},
   "source": [
    "people intrested in opening a restaurant in the state of Texas in the united states may need some help in determining the best location to start their buisness this would require analysis keeping in mind the points discussed above. We can help them decide the most suitable place for their buisness using location information available at foursquare."
   ]
  },
  {
   "cell_type": "code",
   "execution_count": null,
   "metadata": {},
   "outputs": [],
   "source": []
  }
 ],
 "metadata": {
  "kernelspec": {
   "display_name": "Python 3.6",
   "language": "python",
   "name": "python3"
  },
  "language_info": {
   "codemirror_mode": {
    "name": "ipython",
    "version": 3
   },
   "file_extension": ".py",
   "mimetype": "text/x-python",
   "name": "python",
   "nbconvert_exporter": "python",
   "pygments_lexer": "ipython3",
   "version": "3.6.9"
  }
 },
 "nbformat": 4,
 "nbformat_minor": 1
}
